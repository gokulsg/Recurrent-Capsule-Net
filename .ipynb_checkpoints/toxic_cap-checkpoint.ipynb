{
 "cells": [
  {
   "cell_type": "markdown",
   "metadata": {},
   "source": [
    "# Recurrent Capsule Network for Toxic Comment Classification"
   ]
  },
  {
   "cell_type": "code",
   "execution_count": 0,
   "metadata": {
    "colab": {
     "base_uri": "https://localhost:8080/",
     "height": 486
    },
    "colab_type": "code",
    "id": "1SMQXdbLAQF6",
    "outputId": "12bedd1b-bbed-4e9f-b4f1-c2a4f0963edd"
   },
   "outputs": [
    {
     "data": {
      "text/plain": [
       "[name: \"/device:CPU:0\"\n",
       " device_type: \"CPU\"\n",
       " memory_limit: 268435456\n",
       " locality {\n",
       " }\n",
       " incarnation: 2317967743351302516, name: \"/device:XLA_CPU:0\"\n",
       " device_type: \"XLA_CPU\"\n",
       " memory_limit: 17179869184\n",
       " locality {\n",
       " }\n",
       " incarnation: 116803085842005402\n",
       " physical_device_desc: \"device: XLA_CPU device\", name: \"/device:XLA_GPU:0\"\n",
       " device_type: \"XLA_GPU\"\n",
       " memory_limit: 17179869184\n",
       " locality {\n",
       " }\n",
       " incarnation: 7493861067739698444\n",
       " physical_device_desc: \"device: XLA_GPU device\", name: \"/device:GPU:0\"\n",
       " device_type: \"GPU\"\n",
       " memory_limit: 14892338381\n",
       " locality {\n",
       "   bus_id: 1\n",
       "   links {\n",
       "   }\n",
       " }\n",
       " incarnation: 8530698674923775468\n",
       " physical_device_desc: \"device: 0, name: Tesla T4, pci bus id: 0000:00:04.0, compute capability: 7.5\"]"
      ]
     },
     "execution_count": 2,
     "metadata": {
      "tags": []
     },
     "output_type": "execute_result"
    }
   ],
   "source": [
    "from tensorflow.python.client import device_lib\n",
    "device_lib.list_local_devices()"
   ]
  },
  {
   "cell_type": "code",
   "execution_count": 0,
   "metadata": {
    "colab": {
     "base_uri": "https://localhost:8080/",
     "height": 280
    },
    "colab_type": "code",
    "id": "qxcNU8wuAXw7",
    "outputId": "e6893f18-8a65-45ee-a3fe-9f1bfabec4c1"
   },
   "outputs": [
    {
     "name": "stdout",
     "output_type": "stream",
     "text": [
      "[{'name': 'toxic', 'id': '1Pa6KnFt7_Wttf-XYOy2RHkwqP2vxTxAq'}]\n",
      "{'capsule.py': '1sJG_Dn_e47Tv6hkNX_xFIEmv-dalhj-s', 'utils.py': '19hCq1eUIv2RA7uPBb8l-NC_-i1GgVXOS', 'data_loader.py': '13XFyszMPIUxP3PQQNE8rzQ2oYhD_zFCc', 'models.py': '1Yh5zMlJV_DM9sitEO2KM9kwnVrjXTF1D', 'train.csv.zip': '1k1Z6B4zMBJOV1Nqt_2605JDLvthsVnde', 'test.csv.zip': '1pgq5mzaQnE3YfZms5EWyMhZhRPBRv-vQ'}\n",
      "[====================================================================================================] 100%processing capsule.py data\n",
      "Done /content/datalab/capsule.py\n",
      "[====================================================================================================] 100%processing utils.py data\n",
      "Done /content/datalab/utils.py\n",
      "[====================================================================================================] 100%processing data_loader.py data\n",
      "Done /content/datalab/data_loader.py\n",
      "[====================================================================================================] 100%processing models.py data\n",
      "Done /content/datalab/models.py\n",
      "[====================================================================================================] 100%processing train.csv.zip data\n",
      "Done /content/datalab/train.csv.zip\n",
      "[====================================================================================================] 100%processing test.csv.zip data\n",
      "Done /content/datalab/test.csv.zip\n"
     ]
    }
   ],
   "source": [
    "from google.colab import auth\n",
    "from googleapiclient.discovery import build\n",
    "import io , requests, os\n",
    "import sys\n",
    "auth.authenticate_user()\n",
    "from googleapiclient.discovery import build\n",
    "drive_service = build('drive', 'v3')\n",
    "\n",
    "os.mkdir('datalab')\n",
    "\n",
    "def get_parent_folder(folder_name):\n",
    "    page_token = None\n",
    "    folder_array = []\n",
    "    query = \"name='%s' and mimeType='application/vnd.google-apps.folder'\" % folder_name\n",
    "    while True:\n",
    "        response = drive_service.files().list(q=query,\n",
    "                                          spaces='drive',\n",
    "                                          fields='nextPageToken,files(id, name)',\n",
    "                                          pageToken=page_token).execute()\n",
    "        for file in response.get('files', []):\n",
    "            # Process change\n",
    "            #print (file.get('name'), file.get('id'))\n",
    "            folder_array.append({\"name\" : file.get('name'), \"id\" : file.get('id')})\n",
    "        page_token = response.get('nextPageToken', None)\n",
    "        if page_token is None:\n",
    "            break\n",
    "    return folder_array\n",
    "\n",
    "def get_files_from_parent(parent_id):\n",
    "    page_token = None\n",
    "    folder_array = dict()\n",
    "    query = \"'%s' in parents\" % parent_id\n",
    "    while True:\n",
    "        response = drive_service.files().list(q=query,\n",
    "                                          spaces='drive',\n",
    "                                          fields='nextPageToken, files(id, name)',\n",
    "                                          pageToken=page_token).execute()\n",
    "        for file in response.get('files', []):\n",
    "            # Process change\n",
    "            #print (file.get('name'), file.get('id'))\n",
    "            folder_array.update({file.get('name'):file.get('id')})\n",
    "        page_token = response.get('nextPageToken', None)\n",
    "        if page_token is None:\n",
    "            break\n",
    "    return folder_array\n",
    "\n",
    "def get_file_buffer(file_id, verbose=0):\n",
    "    from googleapiclient.http import MediaIoBaseDownload\n",
    "    request = drive_service.files().get_media(fileId=file_id)\n",
    "    downloaded = io.BytesIO()\n",
    "    downloader = MediaIoBaseDownload(downloaded, request)\n",
    "    done = False\n",
    "    while done is False:\n",
    "        # _ is a placeholder for a progress object that we ignore.\n",
    "        # (Our file is small, so we skip reporting progress.)\n",
    "        progress, done = downloader.next_chunk()\n",
    "        if verbose:\n",
    "            sys.stdout.flush()\n",
    "            sys.stdout.write('\\r')\n",
    "            percentage_done = progress.resumable_progress * 100/progress.total_size\n",
    "            sys.stdout.write(\"[%-100s] %d%%\" % ('='*int(percentage_done), int(percentage_done)))\n",
    "    downloaded.seek(0)\n",
    "    return downloaded\n",
    "\n",
    "parent_folder = get_parent_folder('toxic')\n",
    "SOURCE_FOLDER='/content/datalab/'\n",
    "print(parent_folder)\n",
    "parent_folder[0][\"id\"]\n",
    "input_file_meta = get_files_from_parent(parent_folder[0][\"id\"])\n",
    "print(input_file_meta)\n",
    "for file, id in input_file_meta.items():\n",
    "    downloaded = get_file_buffer(id, verbose=1)\n",
    "    dest_file = os.path.join(SOURCE_FOLDER, file)\n",
    "    print(\"processing %s data\" % file)\n",
    "    with open(dest_file, \"wb\") as out:\n",
    "        out.write(downloaded.read())\n",
    "        print(\"Done %s\" % dest_file)"
   ]
  },
  {
   "cell_type": "code",
   "execution_count": 0,
   "metadata": {
    "colab": {
     "base_uri": "https://localhost:8080/",
     "height": 104
    },
    "colab_type": "code",
    "id": "p4w4LAQQLAUZ",
    "outputId": "ca8c6b03-6ed5-4708-bf40-1a645d98a238"
   },
   "outputs": [
    {
     "name": "stdout",
     "output_type": "stream",
     "text": [
      "\u001b[?25l\r",
      "\u001b[K    1% |▎                               | 10kB 17.7MB/s eta 0:00:01\r",
      "\u001b[K    2% |▋                               | 20kB 1.9MB/s eta 0:00:01\r",
      "\u001b[K    3% |█                               | 30kB 2.8MB/s eta 0:00:01\r",
      "\u001b[K    4% |█▎                              | 40kB 1.8MB/s eta 0:00:01\r",
      "\u001b[K    5% |█▋                              | 51kB 2.2MB/s eta 0:00:01\r",
      "\u001b[K    6% |██                              | 61kB 2.6MB/s eta 0:00:01\r",
      "\u001b[K    7% |██▎                             | 71kB 3.0MB/s eta 0:00:01\r",
      "\u001b[K    8% |██▋                             | 81kB 3.4MB/s eta 0:00:01\r",
      "\u001b[K    9% |███                             | 92kB 3.8MB/s eta 0:00:01\r",
      "\u001b[K    10% |███▎                            | 102kB 2.9MB/s eta 0:00:01\r",
      "\u001b[K    11% |███▋                            | 112kB 2.9MB/s eta 0:00:01\r",
      "\u001b[K    12% |████                            | 122kB 4.1MB/s eta 0:00:01\r",
      "\u001b[K    13% |████▎                           | 133kB 4.1MB/s eta 0:00:01\r",
      "\u001b[K    14% |████▋                           | 143kB 7.7MB/s eta 0:00:01\r",
      "\u001b[K    15% |█████                           | 153kB 7.7MB/s eta 0:00:01\r",
      "\u001b[K    16% |█████▎                          | 163kB 7.6MB/s eta 0:00:01\r",
      "\u001b[K    17% |█████▋                          | 174kB 7.7MB/s eta 0:00:01\r",
      "\u001b[K    18% |██████                          | 184kB 7.8MB/s eta 0:00:01\r",
      "\u001b[K    19% |██████▎                         | 194kB 7.8MB/s eta 0:00:01\r",
      "\u001b[K    20% |██████▋                         | 204kB 41.6MB/s eta 0:00:01\r",
      "\u001b[K    21% |███████                         | 215kB 8.4MB/s eta 0:00:01\r",
      "\u001b[K    22% |███████▎                        | 225kB 8.4MB/s eta 0:00:01\r",
      "\u001b[K    23% |███████▋                        | 235kB 8.5MB/s eta 0:00:01\r",
      "\u001b[K    24% |████████                        | 245kB 8.5MB/s eta 0:00:01\r",
      "\u001b[K    25% |████████▎                       | 256kB 8.5MB/s eta 0:00:01\r",
      "\u001b[K    26% |████████▋                       | 266kB 8.4MB/s eta 0:00:01\r",
      "\u001b[K    27% |█████████                       | 276kB 8.5MB/s eta 0:00:01\r",
      "\u001b[K    29% |█████████▎                      | 286kB 8.5MB/s eta 0:00:01\r",
      "\u001b[K    30% |█████████▋                      | 296kB 8.5MB/s eta 0:00:01\r",
      "\u001b[K    31% |██████████                      | 307kB 8.8MB/s eta 0:00:01\r",
      "\u001b[K    32% |██████████▎                     | 317kB 53.3MB/s eta 0:00:01\r",
      "\u001b[K    33% |██████████▋                     | 327kB 53.5MB/s eta 0:00:01\r",
      "\u001b[K    34% |███████████                     | 337kB 53.8MB/s eta 0:00:01\r",
      "\u001b[K    35% |███████████▎                    | 348kB 48.1MB/s eta 0:00:01\r",
      "\u001b[K    36% |███████████▋                    | 358kB 48.3MB/s eta 0:00:01\r",
      "\u001b[K    37% |████████████                    | 368kB 53.6MB/s eta 0:00:01\r",
      "\u001b[K    38% |████████████▎                   | 378kB 53.4MB/s eta 0:00:01\r",
      "\u001b[K    39% |████████████▋                   | 389kB 54.4MB/s eta 0:00:01\r",
      "\u001b[K    40% |█████████████                   | 399kB 9.5MB/s eta 0:00:01\r",
      "\u001b[K    41% |█████████████▎                  | 409kB 9.4MB/s eta 0:00:01\r",
      "\u001b[K    42% |█████████████▋                  | 419kB 9.4MB/s eta 0:00:01\r",
      "\u001b[K    43% |██████████████                  | 430kB 9.2MB/s eta 0:00:01\r",
      "\u001b[K    44% |██████████████▎                 | 440kB 9.2MB/s eta 0:00:01\r",
      "\u001b[K    45% |██████████████▋                 | 450kB 9.3MB/s eta 0:00:01\r",
      "\u001b[K    46% |███████████████                 | 460kB 9.3MB/s eta 0:00:01\r",
      "\u001b[K    47% |███████████████▎                | 471kB 9.3MB/s eta 0:00:01\r",
      "\u001b[K    48% |███████████████▋                | 481kB 9.3MB/s eta 0:00:01\r",
      "\u001b[K    49% |████████████████                | 491kB 9.2MB/s eta 0:00:01\r",
      "\u001b[K    50% |████████████████▎               | 501kB 47.4MB/s eta 0:00:01\r",
      "\u001b[K    51% |████████████████▋               | 512kB 45.2MB/s eta 0:00:01\r",
      "\u001b[K    52% |█████████████████               | 522kB 46.6MB/s eta 0:00:01\r",
      "\u001b[K    53% |█████████████████▎              | 532kB 52.8MB/s eta 0:00:01\r",
      "\u001b[K    54% |█████████████████▋              | 542kB 8.8MB/s eta 0:00:01\r",
      "\u001b[K    55% |██████████████████              | 552kB 8.8MB/s eta 0:00:01\r",
      "\u001b[K    57% |██████████████████▎             | 563kB 8.7MB/s eta 0:00:01\r",
      "\u001b[K    58% |██████████████████▋             | 573kB 8.7MB/s eta 0:00:01\r",
      "\u001b[K    59% |███████████████████             | 583kB 8.7MB/s eta 0:00:01\r",
      "\u001b[K    60% |███████████████████▎            | 593kB 8.8MB/s eta 0:00:01\r",
      "\u001b[K    61% |███████████████████▋            | 604kB 8.8MB/s eta 0:00:01\r",
      "\u001b[K    62% |████████████████████            | 614kB 8.9MB/s eta 0:00:01\r",
      "\u001b[K    63% |████████████████████▎           | 624kB 8.9MB/s eta 0:00:01\r",
      "\u001b[K    64% |████████████████████▋           | 634kB 8.9MB/s eta 0:00:01\r",
      "\u001b[K    65% |█████████████████████           | 645kB 50.7MB/s eta 0:00:01\r",
      "\u001b[K    66% |█████████████████████▎          | 655kB 54.7MB/s eta 0:00:01\r",
      "\u001b[K    67% |█████████████████████▋          | 665kB 46.2MB/s eta 0:00:01\r",
      "\u001b[K    68% |██████████████████████          | 675kB 45.8MB/s eta 0:00:01\r",
      "\u001b[K    69% |██████████████████████▎         | 686kB 46.5MB/s eta 0:00:01\r",
      "\u001b[K    70% |██████████████████████▋         | 696kB 46.8MB/s eta 0:00:01\r",
      "\u001b[K    71% |███████████████████████         | 706kB 46.8MB/s eta 0:00:01\r",
      "\u001b[K    72% |███████████████████████▎        | 716kB 46.4MB/s eta 0:00:01\r",
      "\u001b[K    73% |███████████████████████▋        | 727kB 46.5MB/s eta 0:00:01\r",
      "\u001b[K    74% |████████████████████████        | 737kB 45.8MB/s eta 0:00:01\r",
      "\u001b[K    75% |████████████████████████▎       | 747kB 49.1MB/s eta 0:00:01\r",
      "\u001b[K    76% |████████████████████████▋       | 757kB 50.3MB/s eta 0:00:01\r",
      "\u001b[K    77% |████████████████████████▉       | 768kB 64.9MB/s eta 0:00:01\r",
      "\u001b[K    78% |█████████████████████████▏      | 778kB 66.5MB/s eta 0:00:01\r",
      "\u001b[K    79% |█████████████████████████▌      | 788kB 64.4MB/s eta 0:00:01\r",
      "\u001b[K    80% |█████████████████████████▉      | 798kB 64.1MB/s eta 0:00:01\r",
      "\u001b[K    81% |██████████████████████████▏     | 808kB 63.1MB/s eta 0:00:01\r",
      "\u001b[K    82% |██████████████████████████▌     | 819kB 63.5MB/s eta 0:00:01\r",
      "\u001b[K    83% |██████████████████████████▉     | 829kB 63.4MB/s eta 0:00:01\r",
      "\u001b[K    85% |███████████████████████████▏    | 839kB 64.6MB/s eta 0:00:01\r",
      "\u001b[K    86% |███████████████████████████▌    | 849kB 64.5MB/s eta 0:00:01\r",
      "\u001b[K    87% |███████████████████████████▉    | 860kB 57.8MB/s eta 0:00:01\r",
      "\u001b[K    88% |████████████████████████████▏   | 870kB 57.0MB/s eta 0:00:01\r",
      "\u001b[K    89% |████████████████████████████▌   | 880kB 57.3MB/s eta 0:00:01\r",
      "\u001b[K    90% |████████████████████████████▉   | 890kB 58.7MB/s eta 0:00:01\r",
      "\u001b[K    91% |█████████████████████████████▏  | 901kB 59.1MB/s eta 0:00:01\r",
      "\u001b[K    92% |█████████████████████████████▌  | 911kB 60.5MB/s eta 0:00:01\r",
      "\u001b[K    93% |█████████████████████████████▉  | 921kB 62.3MB/s eta 0:00:01\r",
      "\u001b[K    94% |██████████████████████████████▏ | 931kB 64.0MB/s eta 0:00:01\r",
      "\u001b[K    95% |██████████████████████████████▌ | 942kB 63.7MB/s eta 0:00:01\r",
      "\u001b[K    96% |██████████████████████████████▉ | 952kB 63.1MB/s eta 0:00:01\r",
      "\u001b[K    97% |███████████████████████████████▏| 962kB 72.4MB/s eta 0:00:01\r",
      "\u001b[K    98% |███████████████████████████████▌| 972kB 72.4MB/s eta 0:00:01\r",
      "\u001b[K    99% |███████████████████████████████▉| 983kB 72.3MB/s eta 0:00:01\r",
      "\u001b[K    100% |████████████████████████████████| 993kB 20.9MB/s \n",
      "\u001b[?25h  Building wheel for PyDrive (setup.py) ... \u001b[?25ldone\n",
      "\u001b[?25hTrain Data\n",
      "Downloading zip file\n",
      "Uncompressing zip file\n"
     ]
    }
   ],
   "source": [
    "!pip install -U -q PyDrive\n",
    "\n",
    "# HERE YOUR FILE ID ( GET IT WITH THE SHARING URL: https://drive.google.com/open?id=1Soh3zXLXt2lT7b_3FcWWyeOCC7SnOxK0 )\n",
    "zip_id = '1X0fPif3_SKQPduF51DZh8z3nTcfOycab'\n",
    "# https://drive.google.com/open?id=1X0fPif3_SKQPduF51DZh8z3nTcfOycab\n",
    "\n",
    "from pydrive.auth import GoogleAuth\n",
    "from pydrive.drive import GoogleDrive\n",
    "from google.colab import auth\n",
    "from oauth2client.client import GoogleCredentials\n",
    "import zipfile, os\n",
    "\n",
    "# 1. Authenticate and create the PyDrive client.\n",
    "auth.authenticate_user()\n",
    "gauth = GoogleAuth()\n",
    "gauth.credentials = GoogleCredentials.get_application_default()\n",
    "drive = GoogleDrive(gauth)\n",
    "\n",
    "# DOWNLOAD ZIP\n",
    "print (\"Train Data\")\n",
    "print (\"Downloading zip file\")\n",
    "myzip = drive.CreateFile({'id': zip_id})\n",
    "myzip.GetContentFile('capsule_1fold.zip')\n",
    "\n",
    "# UNZIP ZIP\n",
    "print (\"Uncompressing zip file\")\n",
    "zip_ref = zipfile.ZipFile('capsule_1fold.zip', 'r')\n",
    "zip_ref.extractall('/content/')\n",
    "zip_ref.close()"
   ]
  },
  {
   "cell_type": "markdown",
   "metadata": {},
   "source": [
    "## Download Glove"
   ]
  },
  {
   "cell_type": "code",
   "execution_count": 0,
   "metadata": {
    "colab": {
     "base_uri": "https://localhost:8080/",
     "height": 364
    },
    "colab_type": "code",
    "id": "WJjDsN4nIvlx",
    "outputId": "627df46e-514f-454b-9868-3340e5ace7d2"
   },
   "outputs": [
    {
     "name": "stdout",
     "output_type": "stream",
     "text": [
      "--2019-07-30 13:39:54--  http://nlp.stanford.edu/data/glove.840B.300d.zip\n",
      "Resolving nlp.stanford.edu (nlp.stanford.edu)... 171.64.67.140\n",
      "Connecting to nlp.stanford.edu (nlp.stanford.edu)|171.64.67.140|:80... connected.\n",
      "HTTP request sent, awaiting response... 302 Found\n",
      "Location: https://nlp.stanford.edu/data/glove.840B.300d.zip [following]\n",
      "--2019-07-30 13:39:55--  https://nlp.stanford.edu/data/glove.840B.300d.zip\n",
      "Connecting to nlp.stanford.edu (nlp.stanford.edu)|171.64.67.140|:443... connected.\n",
      "HTTP request sent, awaiting response... 301 Moved Permanently\n",
      "Location: http://downloads.cs.stanford.edu/nlp/data/glove.840B.300d.zip [following]\n",
      "--2019-07-30 13:39:55--  http://downloads.cs.stanford.edu/nlp/data/glove.840B.300d.zip\n",
      "Resolving downloads.cs.stanford.edu (downloads.cs.stanford.edu)... 171.64.64.22\n",
      "Connecting to downloads.cs.stanford.edu (downloads.cs.stanford.edu)|171.64.64.22|:80... connected.\n",
      "HTTP request sent, awaiting response... 200 OK\n",
      "Length: 2176768927 (2.0G) [application/zip]\n",
      "Saving to: ‘glove.840B.300d.zip’\n",
      "\n",
      "glove.840B.300d.zip 100%[===================>]   2.03G  15.8MB/s    in 2m 17s  \n",
      "\n",
      "2019-07-30 13:42:13 (15.1 MB/s) - ‘glove.840B.300d.zip’ saved [2176768927/2176768927]\n",
      "\n"
     ]
    }
   ],
   "source": [
    "!wget http://nlp.stanford.edu/data/glove.840B.300d.zip"
   ]
  },
  {
   "cell_type": "code",
   "execution_count": 0,
   "metadata": {
    "colab": {
     "base_uri": "https://localhost:8080/",
     "height": 139
    },
    "colab_type": "code",
    "id": "AgNVgqahaM-x",
    "outputId": "cc042993-879e-4313-9be4-68a664ced697"
   },
   "outputs": [
    {
     "data": {
      "text/plain": [
       "['.config',\n",
       " 'glove.840B.300d.zip',\n",
       " 'apsule_1fold.h5',\n",
       " 'datalab',\n",
       " 'adc.json',\n",
       " 'capsule_1fold.zip',\n",
       " 'sample_data']"
      ]
     },
     "execution_count": 5,
     "metadata": {
      "tags": []
     },
     "output_type": "execute_result"
    }
   ],
   "source": [
    "import os\n",
    "os.listdir('/content/')"
   ]
  },
  {
   "cell_type": "code",
   "execution_count": 0,
   "metadata": {
    "colab": {
     "base_uri": "https://localhost:8080/",
     "height": 34
    },
    "colab_type": "code",
    "id": "J-VPdFjRAait",
    "outputId": "dcc9fa45-096c-41a7-e1ac-73287a143798"
   },
   "outputs": [
    {
     "name": "stderr",
     "output_type": "stream",
     "text": [
      "Using TensorFlow backend.\n"
     ]
    }
   ],
   "source": [
    "import keras\n",
    "import pandas as pd\n",
    "import numpy as np\n",
    "import matplotlib.pyplot as plt\n",
    "from sklearn import preprocessing, model_selection, metrics\n",
    "import warnings\n",
    "warnings.filterwarnings('ignore')\n",
    "from keras.callbacks import EarlyStopping,ModelCheckpoint\n",
    "from keras.optimizers import Adam\n",
    "\n",
    "import os\n",
    "from keras.layers import Dense,Input,LSTM,Bidirectional,Activation,Conv1D,GRU\n",
    "from keras.callbacks import Callback\n",
    "from keras.layers import Dropout,Embedding,GlobalMaxPooling1D, MaxPooling1D, Add, Flatten\n",
    "from keras.preprocessing import text, sequence\n",
    "from keras.layers import GlobalAveragePooling1D, GlobalMaxPooling1D, concatenate, SpatialDropout1D\n",
    "from keras import initializers, regularizers, constraints, optimizers, layers, callbacks\n",
    "from keras.callbacks import EarlyStopping,ModelCheckpoint\n",
    "from keras.models import Model\n",
    "from keras.optimizers import Adam\n",
    "from sklearn.model_selection import train_test_split\n",
    "from sklearn.metrics import accuracy_score\n",
    "from sklearn.metrics import roc_auc_score\n",
    "\n",
    "%matplotlib inline"
   ]
  },
  {
   "cell_type": "code",
   "execution_count": 0,
   "metadata": {
    "colab": {},
    "colab_type": "code",
    "id": "k6Ki-dsjAky4"
   },
   "outputs": [],
   "source": [
    "from keras import backend as K\n",
    "from keras.engine.topology import Layer\n",
    "from keras import initializers, regularizers, constraints\n",
    "\n",
    "EMBEDDING_FILE='/content/datalab/glove.840B.300d.txt'\n",
    "TRAIN_DATA_FILE='/content/datalab/train.csv.zip'\n",
    "TEST_DATA_FILE='/content/datalab/test.csv.zip'\n",
    "\n",
    "MAX_SEQUENCE_LENGTH = 150\n",
    "MAX_NB_WORDS = 100000\n",
    "EMBEDDING_DIM = 300\n",
    "VALIDATION_SPLIT = 0.1\n",
    "\n",
    "num_lstm = 300\n",
    "num_dense = 256\n",
    "rate_drop_lstm = 0.2\n",
    "rate_drop_dense = 0.2\n",
    "\n",
    "act = 'relu'"
   ]
  },
  {
   "cell_type": "markdown",
   "metadata": {},
   "source": [
    "## Load Train and Test Data"
   ]
  },
  {
   "cell_type": "code",
   "execution_count": 0,
   "metadata": {
    "colab": {},
    "colab_type": "code",
    "id": "CwBaRwiOlnEW"
   },
   "outputs": [],
   "source": [
    "train_df = pd.read_csv(TRAIN_DATA_FILE)\n",
    "test_df = pd.read_csv(TEST_DATA_FILE)"
   ]
  },
  {
   "cell_type": "code",
   "execution_count": 0,
   "metadata": {
    "colab": {},
    "colab_type": "code",
    "id": "KLqW2P9B3ys6"
   },
   "outputs": [],
   "source": [
    "import seaborn as sns\n",
    "color = sns.color_palette()\n",
    "sns.set_style(\"dark\")"
   ]
  },
  {
   "cell_type": "code",
   "execution_count": 0,
   "metadata": {
    "colab": {
     "base_uri": "https://localhost:8080/",
     "height": 34
    },
    "colab_type": "code",
    "id": "OwwHTER-6SQR",
    "outputId": "4f44fd7e-acfe-4147-82ea-95aa9fcdb179"
   },
   "outputs": [
    {
     "data": {
      "text/plain": [
       "143346"
      ]
     },
     "execution_count": 10,
     "metadata": {
      "tags": []
     },
     "output_type": "execute_result"
    }
   ],
   "source": [
    "x=train_df.iloc[:,2:].sum()\n",
    "#marking comments without any tags as \"clean\"\n",
    "rowsums=train_df.iloc[:,2:].sum(axis=1)\n",
    "train_df['clean']=(rowsums==0)\n",
    "#count number of clean entries\n",
    "train_df['clean'].sum()"
   ]
  },
  {
   "cell_type": "code",
   "execution_count": 0,
   "metadata": {
    "colab": {
     "base_uri": "https://localhost:8080/",
     "height": 296
    },
    "colab_type": "code",
    "id": "f8PJYla-3r9y",
    "outputId": "f0e815b1-8aab-4ee5-b7cb-334952c8730a"
   },
   "outputs": [
    {
     "data": {
      "image/png": "[encoded data removed]",
      "text/plain": [
       "<Figure size 576x288 with 1 Axes>"
      ]
     },
     "metadata": {
      "tags": []
     },
     "output_type": "display_data"
    }
   ],
   "source": [
    "x = train_df.iloc[:,2:].sum()\n",
    "plt.figure(figsize=(8,4))\n",
    "ax = sns.barplot(x.index, x.values, alpha=0.8)\n",
    "plt.title(\"No of Comments per Class\")\n",
    "plt.ylabel('No of Occurrences', fontsize=12)\n",
    "plt.xlabel('Type ', fontsize=12)\n",
    "rects = ax.patches\n",
    "labels = x.values\n",
    "for rect, label in zip(rects, labels):\n",
    "    height = rect.get_height()\n",
    "    ax.text(rect.get_x() + rect.get_width()/2, height + 5, label, ha='center', va='bottom')\n",
    "\n",
    "plt.show()"
   ]
  },
  {
   "cell_type": "code",
   "execution_count": 0,
   "metadata": {
    "colab": {
     "base_uri": "https://localhost:8080/",
     "height": 296
    },
    "colab_type": "code",
    "id": "CsS0-yDC63ZV",
    "outputId": "d1f81317-e3bb-4dfe-9be9-bc9d0086b1cb"
   },
   "outputs": [
    {
     "data": {
      "image/png": "[encoded data removed]",
      "text/plain": [
       "<Figure size 576x288 with 1 Axes>"
      ]
     },
     "metadata": {
      "tags": []
     },
     "output_type": "display_data"
    }
   ],
   "source": [
    "x=rowsums.value_counts()\n",
    "\n",
    "#plot\n",
    "plt.figure(figsize=(8,4))\n",
    "ax = sns.barplot(x.index, x.values, alpha=0.8,color='g')\n",
    "plt.title(\"Multiple tags per comment\")\n",
    "plt.ylabel('No of Occurrences', fontsize=12)\n",
    "plt.xlabel('No of tags ', fontsize=12)\n",
    "\n",
    "#adding the text labels\n",
    "rects = ax.patches\n",
    "labels = x.values\n",
    "for rect, label in zip(rects, labels):\n",
    "    height = rect.get_height()\n",
    "    ax.text(rect.get_x() + rect.get_width()/2, height + 5, label, ha='center', va='bottom')\n",
    "\n",
    "plt.show()"
   ]
  },
  {
   "cell_type": "code",
   "execution_count": 0,
   "metadata": {
    "colab": {},
    "colab_type": "code",
    "id": "Z6SmO57QAmYn"
   },
   "outputs": [],
   "source": [
    "def cleanData(text, stemming = False, lemmatize=False):    \n",
    "    text = text.lower().split()\n",
    "    text = \" \".join(text)\n",
    "    text = re.sub(r\"[^A-Za-z0-9^,!.\\/'+\\-=]\", \" \", text)\n",
    "    text = re.sub(r\"what's\", \"what is \", text)\n",
    "    text = re.sub(r\"\\'s\", \" \", text)\n",
    "    text = re.sub(r\"\\'ve\", \" have \", text)\n",
    "    text = re.sub(r\"can't\", \"cannot \", text)\n",
    "    text = re.sub(r\"n't\", \" not \", text)\n",
    "    text = re.sub(r\"i'm\", \"i am \", text)\n",
    "    text = re.sub(r\"\\'re\", \" are \", text)\n",
    "    text = re.sub(r\"\\'d\", \" would \", text)\n",
    "    text = re.sub(r\"\\'ll\", \" will \", text)\n",
    "    text = re.sub(r\",\", \" \", text)\n",
    "    text = re.sub(r\"\\.\", \" \", text)\n",
    "    text = re.sub(r\"!\", \" ! \", text)\n",
    "    text = re.sub(r\"\\/\", \" \", text)\n",
    "    text = re.sub(r\"\\^\", \" ^ \", text)\n",
    "    text = re.sub(r\"\\+\", \" + \", text)\n",
    "    text = re.sub(r\"\\-\", \" - \", text)\n",
    "    text = re.sub(r\"\\=\", \" = \", text)\n",
    "    text = re.sub(r\"'\", \" \", text)\n",
    "    text = re.sub(r\"(\\d+)(k)\", r\"\\g<1>000\", text)\n",
    "    text = re.sub(r\":\", \" : \", text)\n",
    "    text = re.sub(r\" e g \", \" eg \", text)\n",
    "    text = re.sub(r\" b g \", \" bg \", text)\n",
    "    text = re.sub(r\" u s \", \" american \", text)\n",
    "    text = re.sub(r\"\\0s\", \"0\", text)\n",
    "    text = re.sub(r\" 9 11 \", \"911\", text)\n",
    "    text = re.sub(r\"e - mail\", \"email\", text)\n",
    "    text = re.sub(r\"j k\", \"jk\", text)\n",
    "    text = re.sub(r\"\\s{2,}\", \" \", text)\n",
    "    if stemming:\n",
    "        st = PorterStemmer()\n",
    "        txt = \" \".join([st.stem(w) for w in text.split()])\n",
    "    if lemmatize:\n",
    "        wordnet_lemmatizer = WordNetLemmatizer()\n",
    "        txt = \" \".join([wordnet_lemmatizer.lemmatize(w) for w in text.split()])\n",
    "    return text"
   ]
  },
  {
   "cell_type": "code",
   "execution_count": 0,
   "metadata": {
    "colab": {},
    "colab_type": "code",
    "id": "-kF_fz_NJZvE"
   },
   "outputs": [],
   "source": [
    "import zipfile\n",
    "zip_ref = zipfile.ZipFile('glove.840B.300d.zip', 'r')\n",
    "zip_ref.extractall('/content/datalab/')\n",
    "zip_ref.close()"
   ]
  },
  {
   "cell_type": "code",
   "execution_count": 0,
   "metadata": {
    "colab": {
     "base_uri": "https://localhost:8080/",
     "height": 86
    },
    "colab_type": "code",
    "id": "jgArdYq3Aodr",
    "outputId": "1bd4d1d6-8b48-4307-fb9d-3e1a8565f352"
   },
   "outputs": [
    {
     "name": "stdout",
     "output_type": "stream",
     "text": [
      "Indexing word vectors\n",
      "Found 2195895 word vectors of glove.\n",
      "-0.01444638 0.47249147\n",
      "Total 2195895 word vectors.\n"
     ]
    }
   ],
   "source": [
    "print('Indexing word vectors')\n",
    "\n",
    "count = 0\n",
    "embeddings_index = {}\n",
    "f = open(EMBEDDING_FILE)\n",
    "for line in f:\n",
    "    values = line.split()\n",
    "    word = ' '.join(values[:-300])\n",
    "    coefs = np.asarray(values[-300:], dtype='float32')\n",
    "    embeddings_index[word] = coefs.reshape(-1)\n",
    "    coef = embeddings_index[word]\n",
    "f.close()\n",
    "\n",
    "print('Found %d word vectors of glove.' % len(embeddings_index))\n",
    "emb_mean,emb_std = coef.mean(), coef.std()\n",
    "print(emb_mean,emb_std)\n",
    "\n",
    "print('Total %s word vectors.' % len(embeddings_index))"
   ]
  },
  {
   "cell_type": "code",
   "execution_count": 0,
   "metadata": {
    "colab": {},
    "colab_type": "code",
    "id": "w9SXmVUiCA_C"
   },
   "outputs": [],
   "source": [
    "import os\n",
    "import re\n",
    "import csv\n",
    "import codecs\n",
    "import numpy as np\n",
    "import pandas as pd\n",
    "\n",
    "from nltk.corpus import stopwords\n",
    "from nltk.stem import SnowballStemmer\n",
    "from string import punctuation\n",
    "\n",
    "from keras.preprocessing.text import Tokenizer\n",
    "from keras.preprocessing.sequence import pad_sequences\n",
    "from keras.layers import *\n",
    "from keras.layers import concatenate, CuDNNGRU\n",
    "from keras.models import Model\n",
    "from keras.layers.normalization import BatchNormalization\n",
    "from keras.callbacks import EarlyStopping, ModelCheckpoint\n",
    "\n",
    "import sys"
   ]
  },
  {
   "cell_type": "code",
   "execution_count": 0,
   "metadata": {
    "colab": {
     "base_uri": "https://localhost:8080/",
     "height": 104
    },
    "colab_type": "code",
    "id": "lQXMv96wA2d3",
    "outputId": "808fb600-73ad-4254-9606-604567ab64bc"
   },
   "outputs": [
    {
     "name": "stdout",
     "output_type": "stream",
     "text": [
      "Processing text dataset\n",
      "Found 292462 unique tokens\n",
      "Shape of data tensor: (159571, 150)\n",
      "Shape of label tensor: (159571, 6)\n",
      "Shape of test_data tensor: (153164, 150)\n"
     ]
    }
   ],
   "source": [
    "import re\n",
    "\n",
    "print('Processing text dataset')\n",
    "\n",
    "train_df['comment_text'] = train_df['comment_text'].map(lambda x: cleanData(x,  stemming = False, \n",
    "                                                                            lemmatize=False))\n",
    "test_df['comment_text'] = test_df['comment_text'].map(lambda x: cleanData(x,  stemming = False, \n",
    "                                                                          lemmatize=False))\n",
    "\n",
    "#Regex to remove all Non-Alpha Numeric and space\n",
    "special_character_removal=re.compile(r'[^a-z\\d ]',re.IGNORECASE)\n",
    "#regex to replace all numerics\n",
    "replace_numbers=re.compile(r'\\d+',re.IGNORECASE)\n",
    "\n",
    "def text_to_wordlist(text, remove_stopwords=False, stem_words=False):\n",
    "    text = text.lower().split()\n",
    "\n",
    "    # Optionally, remove stop words\n",
    "    if remove_stopwords:\n",
    "        stops = set(stopwords.words(\"english\"))\n",
    "        text = [w for w in text if not w in stops]\n",
    "    \n",
    "    text = \" \".join(text)\n",
    "    \n",
    "    #Remove Special Characters\n",
    "    text=special_character_removal.sub('',text)\n",
    "    #Replace Numbers\n",
    "    text=replace_numbers.sub('n',text)\n",
    "\n",
    "    # Optionally, shorten words to their stems\n",
    "    if stem_words:\n",
    "        text = text.split()\n",
    "        stemmer = SnowballStemmer('english')\n",
    "        stemmed_words = [stemmer.stem(word) for word in text]\n",
    "        text = \" \".join(stemmed_words)\n",
    "    \n",
    "    return(text)\n",
    "\n",
    "\n",
    "list_sentences_train = train_df[\"comment_text\"].fillna(\"NA\").values\n",
    "list_classes = [\"toxic\", \"severe_toxic\", \"obscene\", \"threat\", \"insult\", \"identity_hate\"]\n",
    "y = train_df[list_classes].values\n",
    "list_sentences_test = test_df[\"comment_text\"].fillna(\"NA\").values\n",
    "\n",
    "\n",
    "comments = []\n",
    "for text in list_sentences_train:\n",
    "    comments.append(text_to_wordlist(text))\n",
    "    \n",
    "test_comments=[]\n",
    "for text in list_sentences_test:\n",
    "    test_comments.append(text_to_wordlist(text))\n",
    "\n",
    "tokenizer = Tokenizer(num_words=MAX_NB_WORDS)\n",
    "tokenizer.fit_on_texts(comments + test_comments)\n",
    "\n",
    "sequences = tokenizer.texts_to_sequences(comments)\n",
    "test_sequences = tokenizer.texts_to_sequences(test_comments)\n",
    "\n",
    "word_index = tokenizer.word_index\n",
    "print('Found %s unique tokens' % len(word_index))\n",
    "\n",
    "data = pad_sequences(sequences, maxlen=MAX_SEQUENCE_LENGTH)\n",
    "print('Shape of data tensor:', data.shape)\n",
    "print('Shape of label tensor:', y.shape)\n",
    "\n",
    "test_data = pad_sequences(test_sequences, maxlen=MAX_SEQUENCE_LENGTH)\n",
    "print('Shape of test_data tensor:', test_data.shape)"
   ]
  },
  {
   "cell_type": "code",
   "execution_count": 0,
   "metadata": {
    "colab": {
     "base_uri": "https://localhost:8080/",
     "height": 69
    },
    "colab_type": "code",
    "id": "S_K-0n_7CFM7",
    "outputId": "a2711dc1-e419-41f5-b76e-9ff3e1eb426a"
   },
   "outputs": [
    {
     "name": "stdout",
     "output_type": "stream",
     "text": [
      "Shape of data tensor: (159571, 150)\n",
      "Shape of label tensor: (159571, 6)\n",
      "Shape of test_data tensor: (153164, 150)\n"
     ]
    }
   ],
   "source": [
    "data_post = pad_sequences(sequences, maxlen=MAX_SEQUENCE_LENGTH,padding='post', truncating='post')\n",
    "print('Shape of data tensor:', data_post.shape)\n",
    "print('Shape of label tensor:', y.shape)\n",
    "\n",
    "test_data_post = pad_sequences(test_sequences, maxlen=MAX_SEQUENCE_LENGTH, padding='post', truncating='post')\n",
    "print('Shape of test_data tensor:', test_data_post.shape)"
   ]
  },
  {
   "cell_type": "code",
   "execution_count": 0,
   "metadata": {
    "colab": {
     "base_uri": "https://localhost:8080/",
     "height": 52
    },
    "colab_type": "code",
    "id": "yvB1RT6eCHmu",
    "outputId": "4302f649-881b-412f-a829-26d16ea630f9"
   },
   "outputs": [
    {
     "name": "stdout",
     "output_type": "stream",
     "text": [
      "Preparing embedding matrix\n",
      "Null word embeddings: 21603\n"
     ]
    }
   ],
   "source": [
    "print('Preparing embedding matrix')\n",
    "nb_words = min(MAX_NB_WORDS, len(word_index))\n",
    "embedding_matrix = np.zeros((nb_words, EMBEDDING_DIM))\n",
    "for word, i in word_index.items():\n",
    "    if i >= MAX_NB_WORDS:\n",
    "        continue\n",
    "    embedding_vector = embeddings_index.get(word)\n",
    "    if embedding_vector is not None:\n",
    "        # words not found in embedding index will be all-zeros.\n",
    "        embedding_matrix[i] = embedding_vector\n",
    "\n",
    "print('Null word embeddings: %d' % np.sum(np.sum(embedding_matrix, axis=1) == 0))"
   ]
  },
  {
   "cell_type": "code",
   "execution_count": 0,
   "metadata": {
    "colab": {},
    "colab_type": "code",
    "id": "4UwiCHiZCJKK"
   },
   "outputs": [],
   "source": [
    "max_features=100000\n",
    "maxlen=150\n",
    "embed_size=300"
   ]
  },
  {
   "cell_type": "code",
   "execution_count": 0,
   "metadata": {
    "colab": {},
    "colab_type": "code",
    "id": "LWvbc5hoCKvA"
   },
   "outputs": [],
   "source": [
    "class RocAucEvaluation(Callback):\n",
    "    def __init__(self, validation_data=(), interval=1):\n",
    "        super(Callback, self).__init__()\n",
    "\n",
    "        self.interval = interval\n",
    "        self.X_val, self.y_val = validation_data\n",
    "\n",
    "    def on_epoch_end(self, epoch, logs={}):\n",
    "        if epoch % self.interval == 0:\n",
    "            y_pred = self.model.predict(self.X_val, verbose=0)\n",
    "            score = roc_auc_score(self.y_val, y_pred)\n",
    "            print(\"\\n ROC-AUC - epoch: {:d} - score: {:.6f}\".format(epoch+1, score))"
   ]
  },
  {
   "cell_type": "code",
   "execution_count": 0,
   "metadata": {
    "colab": {},
    "colab_type": "code",
    "id": "MyHZL6AsCMIc"
   },
   "outputs": [],
   "source": [
    "from keras.layers import K, Activation\n",
    "from keras.engine import Layer\n",
    "from keras.layers import Dense, Input, Embedding, Dropout, Bidirectional, GRU, Flatten, SpatialDropout1D\n",
    "gru_len = 128\n",
    "Routings = 5\n",
    "Num_capsule = 10\n",
    "Dim_capsule = 16\n",
    "dropout_p = 0.25\n",
    "rate_drop_dense = 0.28\n",
    "\n",
    "def squash(x, axis=-1):\n",
    "    # s_squared_norm is really small\n",
    "    # s_squared_norm = K.sum(K.square(x), axis, keepdims=True) + K.epsilon()\n",
    "    # scale = K.sqrt(s_squared_norm)/ (0.5 + s_squared_norm)\n",
    "    # return scale * x\n",
    "    s_squared_norm = K.sum(K.square(x), axis, keepdims=True)\n",
    "    scale = K.sqrt(s_squared_norm + K.epsilon())\n",
    "    return x / scale\n",
    "\n",
    "# A Capsule Implement with Pure Keras\n",
    "class Capsule(Layer):\n",
    "    def __init__(self, num_capsule=10, dim_capsule=16, routings=5, kernel_size=(9, 1), share_weights=True,\n",
    "                 activation='default', **kwargs):\n",
    "        super(Capsule, self).__init__(**kwargs)\n",
    "        self.num_capsule = num_capsule\n",
    "        self.dim_capsule = dim_capsule\n",
    "        self.routings = routings\n",
    "        self.kernel_size = kernel_size\n",
    "        self.share_weights = share_weights\n",
    "        if activation == 'default':\n",
    "            self.activation = squash\n",
    "        else:\n",
    "            self.activation = Activation(activation)\n",
    "\n",
    "    def build(self, input_shape):\n",
    "        super(Capsule, self).build(input_shape)\n",
    "        input_dim_capsule = input_shape[-1]\n",
    "        if self.share_weights:\n",
    "            self.W = self.add_weight(name='capsule_kernel',\n",
    "                                     shape=(1, input_dim_capsule,\n",
    "                                            self.num_capsule * self.dim_capsule),\n",
    "                                     # shape=self.kernel_size,\n",
    "                                     initializer='glorot_uniform',\n",
    "                                     trainable=True)\n",
    "#             print(\"W: \"+ str(self.W.shape) +\"\\n\")\n",
    "        else:\n",
    "            input_num_capsule = input_shape[-2]\n",
    "            self.W = self.add_weight(name='capsule_kernel',\n",
    "                                     shape=(input_num_capsule,\n",
    "                                            input_dim_capsule,\n",
    "                                            self.num_capsule * self.dim_capsule),\n",
    "                                     initializer='glorot_uniform',\n",
    "                                     trainable=True)\n",
    "\n",
    "    def call(self, u_vecs):\n",
    "        if self.share_weights:\n",
    "            u_hat_vecs = K.conv1d(u_vecs, self.W)\n",
    "#             print(\"u_vec: \"+ str(u_vecs) +\"\\n\")\n",
    "#             print(\"u_hat_vecs: \"+ str(u_hat_vecs) +\"\\n\")\n",
    "        else:\n",
    "            u_hat_vecs = K.local_conv1d(u_vecs, self.W, [1], [1])\n",
    "\n",
    "        batch_size = K.shape(u_vecs)[0]\n",
    "        input_num_capsule = K.shape(u_vecs)[1]\n",
    "        u_hat_vecs = K.reshape(u_hat_vecs, (batch_size, input_num_capsule,\n",
    "                                            self.num_capsule, self.dim_capsule))\n",
    "#         print(\"u_hat_vecs: after reshape 1: \"+ str(u_hat_vecs) +\"\\n\")\n",
    "        u_hat_vecs = K.permute_dimensions(u_hat_vecs, (0, 2, 1, 3))\n",
    "#         print(\"u_hat_vecs: after reshape 2: \"+ str(u_hat_vecs) +\"\\n\")\n",
    "#         final u_hat_vecs.shape = [None, num_capsule, input_num_capsule, dim_capsule]\n",
    "\n",
    "        b = K.zeros_like(u_hat_vecs[:, :, :, 0])  # shape = [None, num_capsule, input_num_capsule]\n",
    "        for i in range(self.routings):\n",
    "            b = K.permute_dimensions(b, (0, 2, 1))  # shape = [None, input_num_capsule, num_capsule]\n",
    "            c = K.softmax(b)\n",
    "            c = K.permute_dimensions(c, (0, 2, 1))\n",
    "            b = K.permute_dimensions(b, (0, 2, 1))\n",
    "            outputs = self.activation(K.batch_dot(c, u_hat_vecs, [2, 2]))\n",
    "#             print(\"b: \"+ str(b) +\"\\n\")\n",
    "#             print(\"c: \"+ str(c) +\"\\n\")\n",
    "#             print(\"outputs: \"+ str(outputs) +\"\\n\")\n",
    "            if i < self.routings - 1:\n",
    "                b = K.batch_dot(outputs, u_hat_vecs, [2, 3])\n",
    "\n",
    "        return outputs\n",
    "\n",
    "    def compute_output_shape(self, input_shape):\n",
    "        return (None, self.num_capsule, self.dim_capsule)\n",
    "\n"
   ]
  },
  {
   "cell_type": "markdown",
   "metadata": {},
   "source": [
    "## Model"
   ]
  },
  {
   "cell_type": "code",
   "execution_count": 0,
   "metadata": {
    "colab": {},
    "colab_type": "code",
    "id": "sQO8jZGvCUkD"
   },
   "outputs": [],
   "source": [
    "def get_model():\n",
    "    input1_pre = Input(shape=(maxlen,))\n",
    "    embed_layer1_pre = Embedding(max_features,\n",
    "                            embed_size,\n",
    "                            input_length=maxlen,\n",
    "                            weights=[embedding_matrix],\n",
    "                            trainable=False)(input1_pre)\n",
    "    embed_layer1_pre = SpatialDropout1D(0.4)(embed_layer1_pre)\n",
    "    \n",
    "    x_pre = Bidirectional(CuDNNGRU(128, return_sequences=True))(embed_layer1_pre)\n",
    "    capsule_pre = Capsule(num_capsule=10, dim_capsule=16, routings=5,share_weights=True)(x_pre)\n",
    "    capsule_pre = GlobalMaxPooling1D()(capsule_pre)\n",
    "#     capsule_pre = Flatten()(capsule_pre)\n",
    "    capsule_pre = Dropout(0.25)(capsule_pre)\n",
    "    \n",
    "    input1_post = Input(shape=(maxlen,))\n",
    "    embed_layer1_post = Embedding(max_features,\n",
    "                            embed_size,\n",
    "                            input_length=maxlen,\n",
    "                            weights=[embedding_matrix],\n",
    "                            trainable=False)(input1_post)\n",
    "    embed_layer1_post = SpatialDropout1D(0.4)(embed_layer1_post)\n",
    "    \n",
    "    x_post = Bidirectional(CuDNNGRU(128, return_sequences=True))(embed_layer1_post)\n",
    "    capsule_post = Capsule(num_capsule=10, dim_capsule=16, routings=5,share_weights=True)(x_post)\n",
    "    capsule_post = GlobalMaxPooling1D()(capsule_post)\n",
    "#     capsule_post = Flatten()(capsule_post)\n",
    "    capsule_post = Dropout(0.25)(capsule_post)\n",
    "    \n",
    "    concat = concatenate([capsule_pre,capsule_post])\n",
    "    output = Dense(6, activation='sigmoid')(concat)\n",
    "    \n",
    "    model = Model(inputs=[input1_pre,input1_post], outputs=output)\n",
    "    model.compile(\n",
    "        loss='binary_crossentropy',\n",
    "        optimizer=Adam(lr=1e-3,decay=0),\n",
    "        metrics=['accuracy'])\n",
    "    return model"
   ]
  },
  {
   "cell_type": "markdown",
   "metadata": {},
   "source": [
    "## Train the model"
   ]
  },
  {
   "cell_type": "code",
   "execution_count": 0,
   "metadata": {
    "colab": {
     "base_uri": "https://localhost:8080/",
     "height": 975
    },
    "colab_type": "code",
    "id": "eUo0JD1fFCfV",
    "outputId": "9602ca85-acd6-4789-ef34-aabcda82f96c"
   },
   "outputs": [
    {
     "name": "stdout",
     "output_type": "stream",
     "text": [
      "WARNING:tensorflow:From /usr/local/lib/python3.6/dist-packages/tensorflow/python/framework/op_def_library.py:263: colocate_with (from tensorflow.python.framework.ops) is deprecated and will be removed in a future version.\n",
      "Instructions for updating:\n",
      "Colocations handled automatically by placer.\n",
      "WARNING:tensorflow:From /usr/local/lib/python3.6/dist-packages/keras/backend/tensorflow_backend.py:3445: calling dropout (from tensorflow.python.ops.nn_ops) with keep_prob is deprecated and will be removed in a future version.\n",
      "Instructions for updating:\n",
      "Please use `rate` instead of `keep_prob`. Rate should be set to `rate = 1 - keep_prob`.\n",
      "WARNING:tensorflow:From /usr/local/lib/python3.6/dist-packages/tensorflow/python/ops/math_ops.py:3066: to_int32 (from tensorflow.python.ops.math_ops) is deprecated and will be removed in a future version.\n",
      "Instructions for updating:\n",
      "Use tf.cast instead.\n",
      "WARNING:tensorflow:From /usr/local/lib/python3.6/dist-packages/tensorflow/python/ops/math_grad.py:102: div (from tensorflow.python.ops.math_ops) is deprecated and will be removed in a future version.\n",
      "Instructions for updating:\n",
      "Deprecated in favor of operator or tf.math.divide.\n",
      "Train on 151592 samples, validate on 7979 samples\n",
      "Epoch 1/10\n",
      "151592/151592 [==============================] - 227s 1ms/step - loss: 0.0765 - acc: 0.9777 - val_loss: 0.0490 - val_acc: 0.9825\n",
      "\n",
      "Epoch 00001: val_loss improved from inf to 0.04898, saving model to capsule_val0.05.h5\n",
      "Epoch 2/10\n",
      "151592/151592 [==============================] - 222s 1ms/step - loss: 0.0520 - acc: 0.9815 - val_loss: 0.0462 - val_acc: 0.9830\n",
      "\n",
      "Epoch 00002: val_loss improved from 0.04898 to 0.04619, saving model to capsule_val0.05.h5\n",
      "Epoch 3/10\n",
      "151592/151592 [==============================] - 222s 1ms/step - loss: 0.0473 - acc: 0.9825 - val_loss: 0.0449 - val_acc: 0.9826\n",
      "\n",
      "Epoch 00003: val_loss improved from 0.04619 to 0.04492, saving model to capsule_val0.05.h5\n",
      "Epoch 4/10\n",
      "151592/151592 [==============================] - 224s 1ms/step - loss: 0.0457 - acc: 0.9828 - val_loss: 0.0427 - val_acc: 0.9832\n",
      "\n",
      "Epoch 00004: val_loss improved from 0.04492 to 0.04265, saving model to capsule_val0.05.h5\n",
      "Epoch 5/10\n",
      "151592/151592 [==============================] - 225s 1ms/step - loss: 0.0430 - acc: 0.9836 - val_loss: 0.0420 - val_acc: 0.9836\n",
      "\n",
      "Epoch 00005: val_loss improved from 0.04265 to 0.04204, saving model to capsule_val0.05.h5\n",
      "Epoch 6/10\n",
      "151592/151592 [==============================] - 224s 1ms/step - loss: 0.0417 - acc: 0.9840 - val_loss: 0.0413 - val_acc: 0.9841\n",
      "\n",
      "Epoch 00006: val_loss improved from 0.04204 to 0.04133, saving model to capsule_val0.05.h5\n",
      "Epoch 7/10\n",
      "151592/151592 [==============================] - 224s 1ms/step - loss: 0.0401 - acc: 0.9844 - val_loss: 0.0407 - val_acc: 0.9837\n",
      "\n",
      "Epoch 00007: val_loss improved from 0.04133 to 0.04066, saving model to capsule_val0.05.h5\n",
      "Epoch 8/10\n",
      "151592/151592 [==============================] - 224s 1ms/step - loss: 0.0385 - acc: 0.9851 - val_loss: 0.0406 - val_acc: 0.9844\n",
      "\n",
      "Epoch 00008: val_loss improved from 0.04066 to 0.04064, saving model to capsule_val0.05.h5\n",
      "Epoch 9/10\n",
      "151592/151592 [==============================] - 224s 1ms/step - loss: 0.0375 - acc: 0.9853 - val_loss: 0.0410 - val_acc: 0.9840\n",
      "\n",
      "Epoch 00009: val_loss did not improve from 0.04064\n",
      "Epoch 10/10\n",
      "151592/151592 [==============================] - 224s 1ms/step - loss: 0.0368 - acc: 0.9855 - val_loss: 0.0403 - val_acc: 0.9839\n",
      "\n",
      "Epoch 00010: val_loss improved from 0.04064 to 0.04033, saving model to capsule_val0.05.h5\n",
      "0.04032843468750699\n"
     ]
    }
   ],
   "source": [
    "file_path = \"capsule_val0.05.h5\"\n",
    "model = get_model()\n",
    "checkpoint = ModelCheckpoint(file_path, monitor='val_loss', verbose=1, save_best_only=True, mode='min')\n",
    "early = EarlyStopping(monitor=\"val_loss\", mode=\"min\", patience=3)\n",
    "\n",
    "callbacks_list = [checkpoint, early] \n",
    "hist = model.fit([data, data_post], y, epochs=10, batch_size=128, shuffle=True, validation_split=0.05, callbacks = callbacks_list, \n",
    "                 verbose=1)\n",
    "\n",
    "best_score = min(hist.history['val_loss'])\n",
    "print (best_score)"
   ]
  },
  {
   "cell_type": "code",
   "execution_count": 0,
   "metadata": {
    "colab": {
     "base_uri": "https://localhost:8080/",
     "height": 34
    },
    "colab_type": "code",
    "id": "4eKfx_EntDZi",
    "outputId": "efe6d71b-ece3-4059-8304-60f313378532"
   },
   "outputs": [
    {
     "data": {
      "text/html": [
       "<a href='capsule_val0.05.h5' target='_blank'>capsule_val0.05.h5</a><br>"
      ],
      "text/plain": [
       "/content/capsule_val0.05.h5"
      ]
     },
     "execution_count": 25,
     "metadata": {
      "tags": []
     },
     "output_type": "execute_result"
    }
   ],
   "source": [
    "model.load_weights(file_path)\n",
    "\n",
    "from IPython.display import FileLink\n",
    "FileLink('capsule_val0.05.h5')"
   ]
  },
  {
   "cell_type": "code",
   "execution_count": 0,
   "metadata": {
    "colab": {
     "base_uri": "https://localhost:8080/",
     "height": 34
    },
    "colab_type": "code",
    "id": "9AG-RKKzti9B",
    "outputId": "71fe5d00-a1d9-4349-9141-5ef6a3009762"
   },
   "outputs": [
    {
     "data": {
      "text/html": [
       "<a href='tokenizer_toxic_cap.json' target='_blank'>tokenizer_toxic_cap.json</a><br>"
      ],
      "text/plain": [
       "/content/tokenizer_toxic_cap.json"
      ]
     },
     "execution_count": 28,
     "metadata": {
      "tags": []
     },
     "output_type": "execute_result"
    }
   ],
   "source": [
    "from keras_preprocessing.text import tokenizer_from_json\n",
    "import json\n",
    "\n",
    "## save tokenizer\n",
    "tokenizer_json = tokenizer.to_json()\n",
    "with io.open('tokenizer_toxic_cap.json', 'w', encoding='utf-8') as f:\n",
    "    f.write(json.dumps(tokenizer_json, ensure_ascii=False))\n",
    "    \n",
    "FileLink('tokenizer_toxic_cap.json')"
   ]
  },
  {
   "cell_type": "code",
   "execution_count": 0,
   "metadata": {
    "colab": {},
    "colab_type": "code",
    "id": "C7z2EJ7noEci"
   },
   "outputs": [],
   "source": [
    "# load tokenizer\n",
    "with open('tokenizer_toxic_cap.json') as f:\n",
    "    data = json.load(f)\n",
    "    tokenizer1 = tokenizer_from_json(data)"
   ]
  },
  {
   "cell_type": "code",
   "execution_count": 0,
   "metadata": {
    "colab": {},
    "colab_type": "code",
    "id": "rWS8gdvCpou8"
   },
   "outputs": [],
   "source": [
    "import types\n",
    "import tempfile\n",
    "import keras.models\n",
    "\n",
    "def make_keras_picklable():\n",
    "    def __getstate__(self):\n",
    "        model_str = \"\"\n",
    "        with tempfile.NamedTemporaryFile(suffix='.hdf5', delete=True) as fd:\n",
    "            keras.models.save_model(self, fd.name, overwrite=True)\n",
    "            model_str = fd.read()\n",
    "        d = { 'model_str': model_str }\n",
    "        return d\n",
    "\n",
    "    def __setstate__(self, state):\n",
    "        with tempfile.NamedTemporaryFile(suffix='.hdf5', delete=True) as fd:\n",
    "            fd.write(state['model_str'])\n",
    "            fd.flush()\n",
    "            model = keras.models.load_model(fd.name)\n",
    "        self.__dict__ = model.__dict__\n",
    "\n",
    "\n",
    "    cls = keras.models.Model\n",
    "    cls.__getstate__ = __getstate__\n",
    "    cls.__setstate__ = __setstate__"
   ]
  },
  {
   "cell_type": "code",
   "execution_count": 0,
   "metadata": {
    "colab": {
     "base_uri": "https://localhost:8080/",
     "height": 34
    },
    "colab_type": "code",
    "id": "sd9dkxUMpsfm",
    "outputId": "5fe1c107-0177-46e3-88a7-abbbb56840c9"
   },
   "outputs": [
    {
     "name": "stdout",
     "output_type": "stream",
     "text": [
      "Done\n"
     ]
    }
   ],
   "source": [
    "model.load_weights(file_path)\n",
    "\n",
    "import pickle\n",
    "\n",
    "make_keras_picklable()\n",
    "s = pickle.dumps(model)\n",
    "print ('Done')"
   ]
  },
  {
   "cell_type": "code",
   "execution_count": 0,
   "metadata": {
    "colab": {},
    "colab_type": "code",
    "id": "IF_7sPWZ7hOy"
   },
   "outputs": [],
   "source": [
    "with open('capsule.pkl', 'wb') as f:\n",
    "  f.write(s)"
   ]
  },
  {
   "cell_type": "code",
   "execution_count": 0,
   "metadata": {
    "colab": {},
    "colab_type": "code",
    "id": "bSeVgwOe9UTT"
   },
   "outputs": [],
   "source": [
    "model.save('capsule1.h5')"
   ]
  },
  {
   "cell_type": "code",
   "execution_count": 0,
   "metadata": {
    "colab": {
     "base_uri": "https://localhost:8080/",
     "height": 255
    },
    "colab_type": "code",
    "id": "o_Ti1fFPqMhr",
    "outputId": "d1e4f89b-99ef-4cd5-a9ce-42919fa5fca4"
   },
   "outputs": [
    {
     "data": {
      "text/plain": [
       "['.config',\n",
       " 'tokenizer_toxic_cap.json',\n",
       " 'glove.840B.300d.zip',\n",
       " 'capsule_val0.05.pkl',\n",
       " 'capsule_val0.05.h5',\n",
       " 'apsule_1fold.h5',\n",
       " 'data',\n",
       " 'capsule1.h5',\n",
       " 'capsule.h5',\n",
       " 'datalab',\n",
       " 'adc.json',\n",
       " 'capsule_1fold.zip',\n",
       " 'capsule.pkl',\n",
       " 'sample_data']"
      ]
     },
     "execution_count": 77,
     "metadata": {
      "tags": []
     },
     "output_type": "execute_result"
    }
   ],
   "source": [
    "import os\n",
    "os.listdir('/content/')"
   ]
  },
  {
   "cell_type": "code",
   "execution_count": 0,
   "metadata": {
    "colab": {
     "base_uri": "https://localhost:8080/",
     "height": 54
    },
    "colab_type": "code",
    "id": "jgev88KU8jYR",
    "outputId": "1eeaaf4f-a6d8-43a6-d6b4-1fa6ee12a50e"
   },
   "outputs": [
    {
     "data": {
      "text/plain": [
       "'GOOD BOY GOOD BOY GOOD BOY GOOD BOY GOOD BOY GOOD BOY GOOD BOY GOOD BOY GOOD BOY GOOD BOY GOOD BOY GOOD BOY GOOD BOY GOOD BOY GOOD BOY GOOD BOY GOOD BOY GOOD BOY GOOD BOY GOOD BOY GOOD BOY GOOD BOY GOOD BOY GOOD BOY GOOD BOY GOOD BOY GOOD BOY GOOD BOY GOOD BOY GOOD BOY GOOD BOY GOOD BOY GOOD BOY GOOD BOY GOOD BOY GOOD BOY GOOD BOY GOOD BOY GOOD BOY GOOD BOY GOOD BOY GOOD BOY GOOD BOY GOOD BOY GOOD BOY GOOD BOY GOOD BOY GOOD BOY GOOD BOY GOOD BOY GOOD BOY GOOD BOY GOOD BOY GOOD BOY GOOD BOY GOOD BOY GOOD BOY GOOD BOY GOOD BOY GOOD BOY GOOD BOY GOOD BOY GOOD BOY GOOD BOY GOOD BOY GOOD BOY GOOD BOY GOOD BOY GOOD BOY GOOD BOY GOOD BOY GOOD BOY GOOD BOY GOOD BOY GOOD BOY GOOD BOY GOOD BOY GOOD BOY GOOD BOY GOOD BOY GOOD BOY GOOD BOY GOOD BOY GOOD BOY GOOD BOY GOOD BOY GOOD BOY GOOD BOY GOOD BOY GOOD BOY GOOD BOY GOOD BOY GOOD BOY GOOD BOY GOOD BOY GOOD BOY GOOD BOY GOOD BOY GOOD BOY GOOD BOY GOOD BOY GOOD BOY GOOD BOY GOOD BOY GOOD BOY GOOD BOY GOOD BOY GOOD BOY GOOD BOY GOOD BOY GOOD BOY GOOD BOY GOOD BOY GOOD BOY GOOD BOY GOOD BOY GOOD BOY GOOD BOY GOOD BOY GOOD BOY GOOD BOY GOOD BOY GOOD BOY GOOD BOY GOOD BOY GOOD BOY GOOD BOY GOOD BOY GOOD BOY GOOD BOY GOOD BOY GOOD BOY GOOD BOY GOOD BOY GOOD BOY GOOD BOY GOOD BOY GOOD BOY GOOD BOY GOOD BOY GOOD BOY GOOD BOY GOOD BOY GOOD BOY GOOD BOY GOOD BOY GOOD BOY GOOD BOY GOOD BOY GOOD BOY GOOD BOY GOOD BOY GOOD BOY GOOD BOY GOOD BOY GOOD BOY GOOD BOY GOOD BOY GOOD BOY GOOD BOY GOOD BOY GOOD BOY GOOD BOY GOOD BOY GOOD BOY GOOD BOY GOOD BOY GOOD BOY GOOD BOY GOOD BOY GOOD BOY GOOD BOY GOOD BOY GOOD BOY GOOD BOY GOOD BOY GOOD BOY GOOD BOY GOOD BOY GOOD BOY GOOD BOY GOOD BOY GOOD BOY GOOD BOY GOOD BOY GOOD BOY GOOD BOY GOOD BOY GOOD BOY GOOD BOY GOOD BOY GOOD BOY GOOD BOY GOOD BOY GOOD BOY GOOD BOY GOOD BOY GOOD BOY GOOD BOY GOOD BOY FUCK YOU FUCK YOU FUCK YOU FUCK YOU FUCK YOU FUCK YOU FUCK YOU FUCK YOU FUCK YOU FUCK YOU FUCK YOU FUCK YOU FUCK YOU FUCK YOU FUCK YOU FUCK YOU FUCK YOU FUCK YOU FUCK YOU FUCK YOU FUCK YOU FUCK YOU FUCK YOU FUCK YOU FUCK YOU FUCK YOU FUCK YOU FUCK YOU FUCK YOU FUCK YOU FUCK YOU FUCK YOU FUCK YOU FUCK YOU FUCK YOU FUCK YOU FUCK YOU FUCK YOU FUCK YOU FUCK YOU FUCK YOU FUCK YOU FUCK YOU FUCK YOU FUCK YOU FUCK YOU FUCK YOU FUCK YOU FUCK YOU FUCK YOU FUCK YOU FUCK YOU FUCK YOU FUCK YOU FUCK YOU FUCK YOU FUCK YOU FUCK YOU FUCK YOU FUCK YOU '"
      ]
     },
     "execution_count": 80,
     "metadata": {
      "tags": []
     },
     "output_type": "execute_result"
    }
   ],
   "source": [
    "s = ''\n",
    "for i in range(0, 200):\n",
    "    s += 'GOOD BOY '\n",
    "for i in range(0, 60):\n",
    "    s += 'FUCK YOU '\n",
    "\n",
    "s"
   ]
  },
  {
   "cell_type": "code",
   "execution_count": 0,
   "metadata": {
    "colab": {},
    "colab_type": "code",
    "id": "VrVO8lxZ9QRU"
   },
   "outputs": [],
   "source": [
    "def text_to_wordlist(text):\n",
    "    seq = text.split(\" \")\n",
    "    return seq\n",
    "\n",
    "s = 'you will kill me'\n",
    "s1 = cleanData(s)\n",
    "s2 = text_to_wordlist(s1)"
   ]
  },
  {
   "cell_type": "code",
   "execution_count": 0,
   "metadata": {
    "colab": {
     "base_uri": "https://localhost:8080/",
     "height": 34
    },
    "colab_type": "code",
    "id": "UheOnwzw-5Zl",
    "outputId": "a5495ccd-2c8d-418f-c618-048197bf11fa"
   },
   "outputs": [
    {
     "data": {
      "text/plain": [
       "(16, 4, 16)"
      ]
     },
     "execution_count": 34,
     "metadata": {
      "tags": []
     },
     "output_type": "execute_result"
    }
   ],
   "source": [
    "len(s1), len(s2), len(s)"
   ]
  },
  {
   "cell_type": "code",
   "execution_count": 0,
   "metadata": {
    "colab": {
     "base_uri": "https://localhost:8080/",
     "height": 34
    },
    "colab_type": "code",
    "id": "P42kp5xRBOJ-",
    "outputId": "85ac6d81-a69e-4d1e-a2bd-a859de0fe051"
   },
   "outputs": [
    {
     "data": {
      "text/plain": [
       "'you will kill me'"
      ]
     },
     "execution_count": 35,
     "metadata": {
      "tags": []
     },
     "output_type": "execute_result"
    }
   ],
   "source": [
    "s1 "
   ]
  },
  {
   "cell_type": "code",
   "execution_count": 0,
   "metadata": {
    "colab": {
     "base_uri": "https://localhost:8080/",
     "height": 68
    },
    "colab_type": "code",
    "id": "RsLzaWer9sVQ",
    "outputId": "68c6acfb-2d0f-40c8-911c-0cf6eeace490"
   },
   "outputs": [
    {
     "name": "stdout",
     "output_type": "stream",
     "text": [
      "1\n",
      "Shape of data tensor: (1, 150)\n",
      "Shape of data tensor: (1, 150)\n"
     ]
    }
   ],
   "source": [
    "seq = tokenizer1.texts_to_sequences([s2])\n",
    "print (len(seq))\n",
    "\n",
    "p1 = pad_sequences(seq, maxlen=MAX_SEQUENCE_LENGTH)\n",
    "print('Shape of data tensor:', p1.shape)\n",
    "\n",
    "p2 = pad_sequences(seq, maxlen=MAX_SEQUENCE_LENGTH,padding='post', truncating='post')\n",
    "print('Shape of data tensor:', p2.shape)"
   ]
  },
  {
   "cell_type": "code",
   "execution_count": 0,
   "metadata": {
    "colab": {},
    "colab_type": "code",
    "id": "mk1k51hfBijO"
   },
   "outputs": [],
   "source": [
    "model_json = model.to_json()\n",
    "with open(\"model_arch.json\", \"w\") as json_file:\n",
    "    json_file.write(model_json)"
   ]
  },
  {
   "cell_type": "code",
   "execution_count": 0,
   "metadata": {
    "colab": {
     "base_uri": "https://localhost:8080/",
     "height": 51
    },
    "colab_type": "code",
    "id": "gGnuGznGIAX-",
    "outputId": "30d389d0-fe81-4006-f222-99b0f52849bc"
   },
   "outputs": [
    {
     "data": {
      "text/plain": [
       "array([[0.815175  , 0.04782426, 0.07691726, 0.5505833 , 0.25257605,\n",
       "        0.07605152]], dtype=float32)"
      ]
     },
     "execution_count": 98,
     "metadata": {
      "tags": []
     },
     "output_type": "execute_result"
    }
   ],
   "source": [
    "from keras.models import load_model\n",
    "#loaded_model = load_model(\"capsule1.h5\", custom_objects={'Capsule': Capsule})\n",
    "json_file = open('model_arch.json', 'r')\n",
    "loaded_model_json = json_file.read()\n",
    "json_file.close()\n",
    "loaded_model = load_model(\"capsule.h5\", {'Capsule': Capsule})\n",
    "result = loaded_model.predict([p1, p2])\n",
    "result"
   ]
  },
  {
   "cell_type": "code",
   "execution_count": 0,
   "metadata": {
    "colab": {
     "base_uri": "https://localhost:8080/",
     "height": 52
    },
    "colab_type": "code",
    "id": "dnHg_kL78dig",
    "outputId": "10fae0d8-efd1-4bdc-d205-529c3b68970c"
   },
   "outputs": [
    {
     "data": {
      "text/plain": [
       "array([[0.815175  , 0.04782426, 0.07691726, 0.5505833 , 0.25257605,\n",
       "        0.07605152]], dtype=float32)"
      ]
     },
     "execution_count": 37,
     "metadata": {
      "tags": []
     },
     "output_type": "execute_result"
    }
   ],
   "source": [
    "i = 10\n",
    "pred = model.predict([p1, p2])\n",
    "pred"
   ]
  },
  {
   "cell_type": "code",
   "execution_count": 0,
   "metadata": {
    "colab": {
     "base_uri": "https://localhost:8080/",
     "height": 52
    },
    "colab_type": "code",
    "id": "0dOmCEm88dda",
    "outputId": "de83acd1-502d-4006-ea79-35001f6eecab"
   },
   "outputs": [
    {
     "data": {
      "text/plain": [
       "array([[0.09965932, 0.00048022, 0.00247956, 0.00113716, 0.01499811,\n",
       "        0.00072373]], dtype=float32)"
      ]
     },
     "execution_count": 191,
     "metadata": {
      "tags": []
     },
     "output_type": "execute_result"
    }
   ],
   "source": [
    "pred"
   ]
  },
  {
   "cell_type": "code",
   "execution_count": 0,
   "metadata": {
    "colab": {
     "base_uri": "https://localhost:8080/",
     "height": 350
    },
    "colab_type": "code",
    "id": "f6E9SQL-0xDg",
    "outputId": "c95de54d-95be-4fc5-d081-c5a93a51112d"
   },
   "outputs": [
    {
     "name": "stdout",
     "output_type": "stream",
     "text": [
      "Collecting pydrive\n",
      "\u001b[?25l  Downloading https://files.pythonhosted.org/packages/52/e0/0e64788e5dd58ce2d6934549676243dc69d982f198524be9b99e9c2a4fd5/PyDrive-1.3.1.tar.gz (987kB)\n",
      "\r",
      "\u001b[K    1% |▎                               | 10kB 20.6MB/s eta 0:00:01\r",
      "\u001b[K    2% |▋                               | 20kB 4.5MB/s eta 0:00:01\r",
      "\u001b[K    3% |█                               | 30kB 6.4MB/s eta 0:00:01\r",
      "\u001b[K    4% |█▎                              | 40kB 4.2MB/s eta 0:00:01\r",
      "\u001b[K    5% |█▋                              | 51kB 5.1MB/s eta 0:00:01\r",
      "\u001b[K    6% |██                              | 61kB 6.0MB/s eta 0:00:01\r",
      "\u001b[K    7% |██▎                             | 71kB 6.8MB/s eta 0:00:01\r",
      "\u001b[K    8% |██▋                             | 81kB 7.6MB/s eta 0:00:01\r",
      "\u001b[K    9% |███                             | 92kB 8.4MB/s eta 0:00:01\r",
      "\u001b[K    10% |███▎                            | 102kB 6.9MB/s eta 0:00:01\r",
      "\u001b[K    11% |███▋                            | 112kB 7.0MB/s eta 0:00:01\r",
      "\u001b[K    12% |████                            | 122kB 9.4MB/s eta 0:00:01\r",
      "\u001b[K    13% |████▎                           | 133kB 9.3MB/s eta 0:00:01\r",
      "\u001b[K    14% |████▋                           | 143kB 16.4MB/s eta 0:00:01\r",
      "\u001b[K    15% |█████                           | 153kB 16.5MB/s eta 0:00:01\r",
      "\u001b[K    16% |█████▎                          | 163kB 16.5MB/s eta 0:00:01\r",
      "\u001b[K    17% |█████▋                          | 174kB 16.9MB/s eta 0:00:01\r",
      "\u001b[K    18% |██████                          | 184kB 17.1MB/s eta 0:00:01\r",
      "\u001b[K    19% |██████▎                         | 194kB 17.1MB/s eta 0:00:01\r",
      "\u001b[K    20% |██████▋                         | 204kB 20.0MB/s eta 0:00:01\r",
      "\u001b[K    21% |███████                         | 215kB 19.9MB/s eta 0:00:01\r",
      "\u001b[K    22% |███████▎                        | 225kB 19.9MB/s eta 0:00:01\r",
      "\u001b[K    23% |███████▋                        | 235kB 20.7MB/s eta 0:00:01\r",
      "\u001b[K    24% |████████                        | 245kB 20.6MB/s eta 0:00:01\r",
      "\u001b[K    25% |████████▎                       | 256kB 20.8MB/s eta 0:00:01\r",
      "\u001b[K    26% |████████▋                       | 266kB 19.6MB/s eta 0:00:01\r",
      "\u001b[K    27% |█████████                       | 276kB 20.0MB/s eta 0:00:01\r",
      "\u001b[K    29% |█████████▎                      | 286kB 19.9MB/s eta 0:00:01\r",
      "\u001b[K    30% |█████████▋                      | 296kB 19.7MB/s eta 0:00:01\r",
      "\u001b[K    31% |██████████                      | 307kB 45.0MB/s eta 0:00:01\r",
      "\u001b[K    32% |██████████▎                     | 317kB 47.3MB/s eta 0:00:01\r",
      "\u001b[K    33% |██████████▋                     | 327kB 47.3MB/s eta 0:00:01\r",
      "\u001b[K    34% |███████████                     | 337kB 47.7MB/s eta 0:00:01\r",
      "\u001b[K    35% |███████████▎                    | 348kB 43.0MB/s eta 0:00:01\r",
      "\u001b[K    36% |███████████▋                    | 358kB 43.3MB/s eta 0:00:01\r",
      "\u001b[K    37% |████████████                    | 368kB 50.0MB/s eta 0:00:01\r",
      "\u001b[K    38% |████████████▎                   | 378kB 49.7MB/s eta 0:00:01\r",
      "\u001b[K    39% |████████████▋                   | 389kB 50.2MB/s eta 0:00:01\r",
      "\u001b[K    40% |█████████████                   | 399kB 37.4MB/s eta 0:00:01\r",
      "\u001b[K    41% |█████████████▎                  | 409kB 35.2MB/s eta 0:00:01\r",
      "\u001b[K    42% |█████████████▋                  | 419kB 34.1MB/s eta 0:00:01\r",
      "\u001b[K    43% |██████████████                  | 430kB 33.4MB/s eta 0:00:01\r",
      "\u001b[K    44% |██████████████▎                 | 440kB 33.4MB/s eta 0:00:01\r",
      "\u001b[K    45% |██████████████▋                 | 450kB 35.0MB/s eta 0:00:01\r",
      "\u001b[K    46% |███████████████                 | 460kB 34.8MB/s eta 0:00:01\r",
      "\u001b[K    47% |███████████████▎                | 471kB 35.1MB/s eta 0:00:01\r",
      "\u001b[K    48% |███████████████▋                | 481kB 35.3MB/s eta 0:00:01\r",
      "\u001b[K    49% |████████████████                | 491kB 35.1MB/s eta 0:00:01\r",
      "\u001b[K    50% |████████████████▎               | 501kB 47.8MB/s eta 0:00:01\r",
      "\u001b[K    51% |████████████████▋               | 512kB 48.2MB/s eta 0:00:01\r",
      "\u001b[K    52% |█████████████████               | 522kB 51.0MB/s eta 0:00:01\r",
      "\u001b[K    53% |█████████████████▎              | 532kB 53.1MB/s eta 0:00:01\r",
      "\u001b[K    54% |█████████████████▋              | 542kB 53.0MB/s eta 0:00:01\r",
      "\u001b[K    55% |██████████████████              | 552kB 57.0MB/s eta 0:00:01\r",
      "\u001b[K    57% |██████████████████▎             | 563kB 56.6MB/s eta 0:00:01\r",
      "\u001b[K    58% |██████████████████▋             | 573kB 55.7MB/s eta 0:00:01\r",
      "\u001b[K    59% |███████████████████             | 583kB 55.7MB/s eta 0:00:01\r",
      "\u001b[K    60% |███████████████████▎            | 593kB 56.2MB/s eta 0:00:01\r",
      "\u001b[K    61% |███████████████████▋            | 604kB 56.0MB/s eta 0:00:01\r",
      "\u001b[K    62% |████████████████████            | 614kB 60.5MB/s eta 0:00:01\r",
      "\u001b[K    63% |████████████████████▎           | 624kB 59.0MB/s eta 0:00:01\r",
      "\u001b[K    64% |████████████████████▋           | 634kB 59.3MB/s eta 0:00:01\r",
      "\u001b[K    65% |█████████████████████           | 645kB 59.4MB/s eta 0:00:01\r",
      "\u001b[K    66% |█████████████████████▎          | 655kB 58.7MB/s eta 0:00:01\r",
      "\u001b[K    67% |█████████████████████▋          | 665kB 43.0MB/s eta 0:00:01\r",
      "\u001b[K    68% |██████████████████████          | 675kB 42.7MB/s eta 0:00:01\r",
      "\u001b[K    69% |██████████████████████▎         | 686kB 42.7MB/s eta 0:00:01\r",
      "\u001b[K    70% |██████████████████████▋         | 696kB 42.3MB/s eta 0:00:01\r",
      "\u001b[K    71% |███████████████████████         | 706kB 42.1MB/s eta 0:00:01\r",
      "\u001b[K    72% |███████████████████████▎        | 716kB 42.5MB/s eta 0:00:01\r",
      "\u001b[K    73% |███████████████████████▋        | 727kB 42.9MB/s eta 0:00:01\r",
      "\u001b[K    74% |████████████████████████        | 737kB 42.4MB/s eta 0:00:01\r",
      "\u001b[K    75% |████████████████████████▎       | 747kB 42.4MB/s eta 0:00:01\r",
      "\u001b[K    76% |████████████████████████▋       | 757kB 42.0MB/s eta 0:00:01\r",
      "\u001b[K    77% |████████████████████████▉       | 768kB 57.7MB/s eta 0:00:01\r",
      "\u001b[K    78% |█████████████████████████▏      | 778kB 58.4MB/s eta 0:00:01\r",
      "\u001b[K    79% |█████████████████████████▌      | 788kB 58.0MB/s eta 0:00:01\r",
      "\u001b[K    80% |█████████████████████████▉      | 798kB 58.9MB/s eta 0:00:01\r",
      "\u001b[K    81% |██████████████████████████▏     | 808kB 58.8MB/s eta 0:00:01\r",
      "\u001b[K    82% |██████████████████████████▌     | 819kB 57.1MB/s eta 0:00:01\r",
      "\u001b[K    83% |██████████████████████████▉     | 829kB 57.7MB/s eta 0:00:01\r",
      "\u001b[K    85% |███████████████████████████▏    | 839kB 57.6MB/s eta 0:00:01\r",
      "\u001b[K    86% |███████████████████████████▌    | 849kB 58.3MB/s eta 0:00:01\r",
      "\u001b[K    87% |███████████████████████████▉    | 860kB 53.7MB/s eta 0:00:01\r",
      "\u001b[K    88% |████████████████████████████▏   | 870kB 53.1MB/s eta 0:00:01\r",
      "\u001b[K    89% |████████████████████████████▌   | 880kB 53.4MB/s eta 0:00:01\r",
      "\u001b[K    90% |████████████████████████████▉   | 890kB 53.6MB/s eta 0:00:01\r",
      "\u001b[K    91% |█████████████████████████████▏  | 901kB 54.1MB/s eta 0:00:01\r",
      "\u001b[K    92% |█████████████████████████████▌  | 911kB 54.1MB/s eta 0:00:01\r",
      "\u001b[K    93% |█████████████████████████████▉  | 921kB 54.4MB/s eta 0:00:01\r",
      "\u001b[K    94% |██████████████████████████████▏ | 931kB 54.5MB/s eta 0:00:01\r",
      "\u001b[K    95% |██████████████████████████████▌ | 942kB 55.2MB/s eta 0:00:01\r",
      "\u001b[K    96% |██████████████████████████████▉ | 952kB 55.3MB/s eta 0:00:01\r",
      "\u001b[K    97% |███████████████████████████████▏| 962kB 61.5MB/s eta 0:00:01\r",
      "\u001b[K    98% |███████████████████████████████▌| 972kB 61.6MB/s eta 0:00:01\r",
      "\u001b[K    99% |███████████████████████████████▉| 983kB 61.8MB/s eta 0:00:01\r",
      "\u001b[K    100% |████████████████████████████████| 993kB 21.8MB/s \n",
      "\u001b[?25hRequirement already satisfied: google-api-python-client>=1.2 in /usr/local/lib/python3.6/dist-packages (from pydrive) (1.6.7)\n",
      "Requirement already satisfied: oauth2client>=4.0.0 in /usr/local/lib/python3.6/dist-packages (from pydrive) (4.1.3)\n",
      "Requirement already satisfied: PyYAML>=3.0 in /usr/local/lib/python3.6/dist-packages (from pydrive) (3.13)\n",
      "Requirement already satisfied: uritemplate<4dev,>=3.0.0 in /usr/local/lib/python3.6/dist-packages (from google-api-python-client>=1.2->pydrive) (3.0.0)\n",
      "Requirement already satisfied: httplib2<1dev,>=0.9.2 in /usr/local/lib/python3.6/dist-packages (from google-api-python-client>=1.2->pydrive) (0.11.3)\n",
      "Requirement already satisfied: six<2dev,>=1.6.1 in /usr/local/lib/python3.6/dist-packages (from google-api-python-client>=1.2->pydrive) (1.11.0)\n",
      "Requirement already satisfied: pyasn1-modules>=0.0.5 in /usr/local/lib/python3.6/dist-packages (from oauth2client>=4.0.0->pydrive) (0.2.2)\n",
      "Requirement already satisfied: pyasn1>=0.1.7 in /usr/local/lib/python3.6/dist-packages (from oauth2client>=4.0.0->pydrive) (0.4.4)\n",
      "Requirement already satisfied: rsa>=3.1.4 in /usr/local/lib/python3.6/dist-packages (from oauth2client>=4.0.0->pydrive) (4.0)\n",
      "Building wheels for collected packages: pydrive\n",
      "  Running setup.py bdist_wheel for pydrive ... \u001b[?25l-\b \b\\\b \bdone\n",
      "\u001b[?25h  Stored in directory: /root/.cache/pip/wheels/fa/d2/9a/d3b6b506c2da98289e5d417215ce34b696db856643bad779f4\n",
      "Successfully built pydrive\n",
      "Installing collected packages: pydrive\n",
      "Successfully installed pydrive-1.3.1\n"
     ]
    }
   ],
   "source": [
    "!pip install pydrive\n",
    "\n",
    "from google.colab import files\n",
    "from pydrive.auth import GoogleAuth\n",
    "from pydrive.drive import GoogleDrive\n",
    "from google.colab import auth\n",
    "from oauth2client.client import GoogleCredentials\n",
    "import zipfile\n",
    "import os\n",
    "import sys\n",
    "\n",
    "zipname = 'capsule_1fold'\n",
    "\n",
    "def zipfolder(foldername, target_dir):            \n",
    "    zipobj = zipfile.ZipFile(foldername + '.zip', 'w', zipfile.ZIP_DEFLATED)\n",
    "    rootlen = len(target_dir) + 1\n",
    "    for base, dirs, files in os.walk(target_dir):\n",
    "        for file in files:\n",
    "            fn = os.path.join(base, file)\n",
    "            zipobj.write(fn, fn[rootlen:])\n",
    "\n",
    "zipfolder(zipname, '/content/output/')\n",
    "\n",
    "# 1. Authenticate and create the PyDrive client.\n",
    "auth.authenticate_user()\n",
    "gauth = GoogleAuth()\n",
    "gauth.credentials = GoogleCredentials.get_application_default()\n",
    "drive = GoogleDrive(gauth)\n",
    "\n",
    "# 2. Create & upload a file text file.\n",
    "file1 = drive.CreateFile()\n",
    "file1.SetContentFile(zipname+\".zip\")\n",
    "file1.Upload()"
   ]
  },
  {
   "cell_type": "code",
   "execution_count": 0,
   "metadata": {
    "colab": {},
    "colab_type": "code",
    "id": "BkUZmyCPCbd6"
   },
   "outputs": [],
   "source": [
    "from sklearn.metrics import log_loss\n",
    "import numpy as np\n",
    "\n",
    "test_predicts_list = []\n",
    "\n",
    "def train_folds(data,data_post, y,fold_count=10):\n",
    "    print(\"Starting to train models...\")\n",
    "    fold_size = len(data) // fold_count\n",
    "    models = []\n",
    "    for fold_id in range(0, fold_count):\n",
    "        fold_start = fold_size * fold_id\n",
    "        fold_end = fold_start + fold_size\n",
    "\n",
    "        if fold_id == fold_size - 1:\n",
    "            fold_end = len(data)\n",
    "\n",
    "        print(\"Fold {0}\".format(fold_id))\n",
    "        \n",
    "        train_x = np.concatenate([data[:fold_start], data[fold_end:]])\n",
    "        train_xp = np.concatenate([data_post[:fold_start], data_post[fold_end:]])\n",
    "        train_y = np.concatenate([y[:fold_start], y[fold_end:]])\n",
    "\n",
    "        val_x = data[fold_start:fold_end]\n",
    "        val_xp = data_post[fold_start:fold_end]\n",
    "        val_y = y[fold_start:fold_end]\n",
    "        \n",
    "        file_path=\"capsule_fold{0}.h5\".format(fold_id)\n",
    "        model = get_model()\n",
    "        checkpoint = ModelCheckpoint(file_path, monitor='val_loss', verbose=1, save_best_only=True, mode='min')\n",
    "        early = EarlyStopping(monitor=\"val_loss\", mode=\"min\", patience=3)\n",
    "        RocAuc = RocAucEvaluation(validation_data=([val_x, val_xp], val_y), interval=1)\n",
    "        callbacks_list = [checkpoint, early,RocAuc] \n",
    "\n",
    "        hist = model.fit([train_x, train_xp], train_y, epochs=15, batch_size=128, shuffle=True, \n",
    "                         validation_data=([val_x, val_xp], val_y), callbacks = callbacks_list, verbose=1)\n",
    "        model.load_weights(file_path)\n",
    "        best_score = min(hist.history['val_loss'])\n",
    "        \n",
    "        print(\"Fold {0} loss {1}\".format(fold_id, best_score))\n",
    "        print(\"Predicting validation...\")\n",
    "        val_predicts_path = \"capsule_val_predicts{0}.npy\".format(fold_id)\n",
    "        val_predicts = model.predict([val_x, val_xp], batch_size=1024, verbose=1)\n",
    "        np.save(val_predicts_path, val_predicts)\n",
    "        \n",
    "        print(\"Predicting results...\")\n",
    "        test_predicts_path = \"capsule_test_predicts{0}.npy\".format(fold_id)\n",
    "        test_predicts = model.predict([test_data, test_data_post], batch_size=1024, verbose=1)\n",
    "        test_predicts_list.append(test_predicts)\n",
    "        np.save(test_predicts_path, test_predicts)"
   ]
  },
  {
   "cell_type": "code",
   "execution_count": 1,
   "metadata": {
    "colab": {
     "base_uri": "https://localhost:8080/",
     "height": 2784
    },
    "colab_type": "code",
    "id": "zr4OcJlZCcOK",
    "outputId": "99a6eba7-216e-4614-99d4-d01ea82356d5"
   },
   "outputs": [],
   "source": [
    "train_folds(data, data_post, y)"
   ]
  },
  {
   "cell_type": "code",
   "execution_count": 0,
   "metadata": {
    "colab": {},
    "colab_type": "code",
    "id": "e5zswyqipLjX"
   },
   "outputs": [],
   "source": [
    "CLASSES = ['toxic', 'severe_toxic', 'obscene', 'threat', 'insult', 'identity_hate']\n",
    "\n",
    "test_predicts_am = np.zeros(test_predicts_list[0].shape)\n",
    "\n",
    "for fold_predict in test_predicts_list:\n",
    "    test_predicts_am += fold_predict\n",
    "\n",
    "test_predicts_am = (test_predicts_am / len(test_predicts_list))\n",
    "\n",
    "test_ids = test_df[\"id\"].values\n",
    "test_ids = test_ids.reshape((len(test_ids), 1))\n",
    "\n",
    "test_predicts_am = pd.DataFrame(data=test_predicts_am, columns=CLASSES)\n",
    "test_predicts_am[\"id\"] = test_ids\n",
    "test_predicts_am = test_predicts_am[[\"id\"] + CLASSES]\n",
    "test_predicts_am.to_csv(\"10fold_capsule_am.csv\", index=False)"
   ]
  },
  {
   "cell_type": "code",
   "execution_count": 0,
   "metadata": {
    "colab": {},
    "colab_type": "code",
    "id": "azDQWmCkF6nZ"
   },
   "outputs": [],
   "source": [
    "from google.colab import files\n",
    "files.download('10fold_capsule_am.csv')"
   ]
  },
  {
   "cell_type": "markdown",
   "metadata": {},
   "source": [
    "## Scores on Leaderboard\n",
    "\n",
    "- Private LB 0.9855\n",
    "- Public LB 0.9865"
   ]
  },
  {
   "cell_type": "code",
   "execution_count": null,
   "metadata": {},
   "outputs": [],
   "source": []
  }
 ],
 "metadata": {
  "accelerator": "GPU",
  "colab": {
   "collapsed_sections": [],
   "name": "capsule_toxic.ipynb",
   "provenance": [],
   "version": "0.3.2"
  },
  "kernelspec": {
   "display_name": "Python 3",
   "language": "python",
   "name": "python3"
  },
  "language_info": {
   "codemirror_mode": {
    "name": "ipython",
    "version": 3
   },
   "file_extension": ".py",
   "mimetype": "text/x-python",
   "name": "python",
   "nbconvert_exporter": "python",
   "pygments_lexer": "ipython3",
   "version": "3.6.8"
  }
 },
 "nbformat": 4,
 "nbformat_minor": 1
}
